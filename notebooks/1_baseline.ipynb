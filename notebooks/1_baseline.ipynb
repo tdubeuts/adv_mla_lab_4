{
 "cells": [
  {
   "cell_type": "code",
   "execution_count": 1,
   "id": "6893230f-6354-4d56-ba78-3e506dcbecf1",
   "metadata": {},
   "outputs": [],
   "source": [
    "%load_ext autoreload\n",
    "%autoreload 2"
   ]
  },
  {
   "cell_type": "code",
   "execution_count": 26,
   "id": "e9a4b6dc-a59f-4558-afc9-8bacc3e50985",
   "metadata": {},
   "outputs": [
    {
     "name": "stdout",
     "output_type": "stream",
     "text": [
      "Looking in indexes: https://test.pypi.org/simple/\n",
      "Collecting lab-4-pkg==2024.0.1.2\n",
      "  Downloading https://test-files.pythonhosted.org/packages/ca/3c/ca434fa745ced7d24dba373bb2cf7aa27c09a09721754df18068fcebcc72/lab_4_pkg-2024.0.1.2-py3-none-any.whl.metadata (3.4 kB)\n",
      "Requirement already satisfied: jupyterlab==4.2.3 in /Users/thusondube/Library/Caches/pypoetry/virtualenvs/lab-4-pkg-BJc9MMZB-py3.10/lib/python3.10/site-packages (from lab-4-pkg==2024.0.1.2) (4.2.3)\n",
      "Requirement already satisfied: pandas==2.2.2 in /Users/thusondube/Library/Caches/pypoetry/virtualenvs/lab-4-pkg-BJc9MMZB-py3.10/lib/python3.10/site-packages (from lab-4-pkg==2024.0.1.2) (2.2.2)\n",
      "Requirement already satisfied: scikit-learn==1.5.1 in /Users/thusondube/Library/Caches/pypoetry/virtualenvs/lab-4-pkg-BJc9MMZB-py3.10/lib/python3.10/site-packages (from lab-4-pkg==2024.0.1.2) (1.5.1)\n",
      "Requirement already satisfied: async-lru>=1.0.0 in /Users/thusondube/Library/Caches/pypoetry/virtualenvs/lab-4-pkg-BJc9MMZB-py3.10/lib/python3.10/site-packages (from jupyterlab==4.2.3->lab-4-pkg==2024.0.1.2) (2.0.4)\n",
      "Requirement already satisfied: httpx>=0.25.0 in /Users/thusondube/Library/Caches/pypoetry/virtualenvs/lab-4-pkg-BJc9MMZB-py3.10/lib/python3.10/site-packages (from jupyterlab==4.2.3->lab-4-pkg==2024.0.1.2) (0.27.2)\n",
      "Requirement already satisfied: ipykernel>=6.5.0 in /Users/thusondube/Library/Caches/pypoetry/virtualenvs/lab-4-pkg-BJc9MMZB-py3.10/lib/python3.10/site-packages (from jupyterlab==4.2.3->lab-4-pkg==2024.0.1.2) (6.29.5)\n",
      "Requirement already satisfied: jinja2>=3.0.3 in /Users/thusondube/Library/Caches/pypoetry/virtualenvs/lab-4-pkg-BJc9MMZB-py3.10/lib/python3.10/site-packages (from jupyterlab==4.2.3->lab-4-pkg==2024.0.1.2) (3.1.4)\n",
      "Requirement already satisfied: jupyter-core in /Users/thusondube/Library/Caches/pypoetry/virtualenvs/lab-4-pkg-BJc9MMZB-py3.10/lib/python3.10/site-packages (from jupyterlab==4.2.3->lab-4-pkg==2024.0.1.2) (5.7.2)\n",
      "Requirement already satisfied: jupyter-lsp>=2.0.0 in /Users/thusondube/Library/Caches/pypoetry/virtualenvs/lab-4-pkg-BJc9MMZB-py3.10/lib/python3.10/site-packages (from jupyterlab==4.2.3->lab-4-pkg==2024.0.1.2) (2.2.5)\n",
      "Requirement already satisfied: jupyter-server<3,>=2.4.0 in /Users/thusondube/Library/Caches/pypoetry/virtualenvs/lab-4-pkg-BJc9MMZB-py3.10/lib/python3.10/site-packages (from jupyterlab==4.2.3->lab-4-pkg==2024.0.1.2) (2.14.2)\n",
      "Requirement already satisfied: jupyterlab-server<3,>=2.27.1 in /Users/thusondube/Library/Caches/pypoetry/virtualenvs/lab-4-pkg-BJc9MMZB-py3.10/lib/python3.10/site-packages (from jupyterlab==4.2.3->lab-4-pkg==2024.0.1.2) (2.27.3)\n",
      "Requirement already satisfied: notebook-shim>=0.2 in /Users/thusondube/Library/Caches/pypoetry/virtualenvs/lab-4-pkg-BJc9MMZB-py3.10/lib/python3.10/site-packages (from jupyterlab==4.2.3->lab-4-pkg==2024.0.1.2) (0.2.4)\n",
      "Requirement already satisfied: packaging in /Users/thusondube/Library/Caches/pypoetry/virtualenvs/lab-4-pkg-BJc9MMZB-py3.10/lib/python3.10/site-packages (from jupyterlab==4.2.3->lab-4-pkg==2024.0.1.2) (24.1)\n",
      "Requirement already satisfied: setuptools>=40.1.0 in /Users/thusondube/Library/Caches/pypoetry/virtualenvs/lab-4-pkg-BJc9MMZB-py3.10/lib/python3.10/site-packages (from jupyterlab==4.2.3->lab-4-pkg==2024.0.1.2) (75.1.0)\n",
      "Requirement already satisfied: tomli>=1.2.2 in /Users/thusondube/Library/Caches/pypoetry/virtualenvs/lab-4-pkg-BJc9MMZB-py3.10/lib/python3.10/site-packages (from jupyterlab==4.2.3->lab-4-pkg==2024.0.1.2) (2.0.1)\n",
      "Requirement already satisfied: tornado>=6.2.0 in /Users/thusondube/Library/Caches/pypoetry/virtualenvs/lab-4-pkg-BJc9MMZB-py3.10/lib/python3.10/site-packages (from jupyterlab==4.2.3->lab-4-pkg==2024.0.1.2) (6.4.1)\n",
      "Requirement already satisfied: traitlets in /Users/thusondube/Library/Caches/pypoetry/virtualenvs/lab-4-pkg-BJc9MMZB-py3.10/lib/python3.10/site-packages (from jupyterlab==4.2.3->lab-4-pkg==2024.0.1.2) (5.14.3)\n",
      "Requirement already satisfied: numpy>=1.22.4 in /Users/thusondube/Library/Caches/pypoetry/virtualenvs/lab-4-pkg-BJc9MMZB-py3.10/lib/python3.10/site-packages (from pandas==2.2.2->lab-4-pkg==2024.0.1.2) (2.1.1)\n",
      "Requirement already satisfied: python-dateutil>=2.8.2 in /Users/thusondube/Library/Caches/pypoetry/virtualenvs/lab-4-pkg-BJc9MMZB-py3.10/lib/python3.10/site-packages (from pandas==2.2.2->lab-4-pkg==2024.0.1.2) (2.9.0.post0)\n",
      "Requirement already satisfied: pytz>=2020.1 in /Users/thusondube/Library/Caches/pypoetry/virtualenvs/lab-4-pkg-BJc9MMZB-py3.10/lib/python3.10/site-packages (from pandas==2.2.2->lab-4-pkg==2024.0.1.2) (2024.2)\n",
      "Requirement already satisfied: tzdata>=2022.7 in /Users/thusondube/Library/Caches/pypoetry/virtualenvs/lab-4-pkg-BJc9MMZB-py3.10/lib/python3.10/site-packages (from pandas==2.2.2->lab-4-pkg==2024.0.1.2) (2024.1)\n",
      "Requirement already satisfied: scipy>=1.6.0 in /Users/thusondube/Library/Caches/pypoetry/virtualenvs/lab-4-pkg-BJc9MMZB-py3.10/lib/python3.10/site-packages (from scikit-learn==1.5.1->lab-4-pkg==2024.0.1.2) (1.14.1)\n",
      "Requirement already satisfied: joblib>=1.2.0 in /Users/thusondube/Library/Caches/pypoetry/virtualenvs/lab-4-pkg-BJc9MMZB-py3.10/lib/python3.10/site-packages (from scikit-learn==1.5.1->lab-4-pkg==2024.0.1.2) (1.4.2)\n",
      "Requirement already satisfied: threadpoolctl>=3.1.0 in /Users/thusondube/Library/Caches/pypoetry/virtualenvs/lab-4-pkg-BJc9MMZB-py3.10/lib/python3.10/site-packages (from scikit-learn==1.5.1->lab-4-pkg==2024.0.1.2) (3.5.0)\n",
      "Requirement already satisfied: typing-extensions>=4.0.0 in /Users/thusondube/Library/Caches/pypoetry/virtualenvs/lab-4-pkg-BJc9MMZB-py3.10/lib/python3.10/site-packages (from async-lru>=1.0.0->jupyterlab==4.2.3->lab-4-pkg==2024.0.1.2) (4.12.2)\n",
      "Requirement already satisfied: anyio in /Users/thusondube/Library/Caches/pypoetry/virtualenvs/lab-4-pkg-BJc9MMZB-py3.10/lib/python3.10/site-packages (from httpx>=0.25.0->jupyterlab==4.2.3->lab-4-pkg==2024.0.1.2) (4.4.0)\n",
      "Requirement already satisfied: certifi in /Users/thusondube/Library/Caches/pypoetry/virtualenvs/lab-4-pkg-BJc9MMZB-py3.10/lib/python3.10/site-packages (from httpx>=0.25.0->jupyterlab==4.2.3->lab-4-pkg==2024.0.1.2) (2024.8.30)\n",
      "Requirement already satisfied: httpcore==1.* in /Users/thusondube/Library/Caches/pypoetry/virtualenvs/lab-4-pkg-BJc9MMZB-py3.10/lib/python3.10/site-packages (from httpx>=0.25.0->jupyterlab==4.2.3->lab-4-pkg==2024.0.1.2) (1.0.5)\n",
      "Requirement already satisfied: idna in /Users/thusondube/Library/Caches/pypoetry/virtualenvs/lab-4-pkg-BJc9MMZB-py3.10/lib/python3.10/site-packages (from httpx>=0.25.0->jupyterlab==4.2.3->lab-4-pkg==2024.0.1.2) (3.10)\n",
      "Requirement already satisfied: sniffio in /Users/thusondube/Library/Caches/pypoetry/virtualenvs/lab-4-pkg-BJc9MMZB-py3.10/lib/python3.10/site-packages (from httpx>=0.25.0->jupyterlab==4.2.3->lab-4-pkg==2024.0.1.2) (1.3.1)\n",
      "Requirement already satisfied: h11<0.15,>=0.13 in /Users/thusondube/Library/Caches/pypoetry/virtualenvs/lab-4-pkg-BJc9MMZB-py3.10/lib/python3.10/site-packages (from httpcore==1.*->httpx>=0.25.0->jupyterlab==4.2.3->lab-4-pkg==2024.0.1.2) (0.14.0)\n",
      "Requirement already satisfied: appnope in /Users/thusondube/Library/Caches/pypoetry/virtualenvs/lab-4-pkg-BJc9MMZB-py3.10/lib/python3.10/site-packages (from ipykernel>=6.5.0->jupyterlab==4.2.3->lab-4-pkg==2024.0.1.2) (0.1.4)\n",
      "Requirement already satisfied: comm>=0.1.1 in /Users/thusondube/Library/Caches/pypoetry/virtualenvs/lab-4-pkg-BJc9MMZB-py3.10/lib/python3.10/site-packages (from ipykernel>=6.5.0->jupyterlab==4.2.3->lab-4-pkg==2024.0.1.2) (0.2.2)\n",
      "Requirement already satisfied: debugpy>=1.6.5 in /Users/thusondube/Library/Caches/pypoetry/virtualenvs/lab-4-pkg-BJc9MMZB-py3.10/lib/python3.10/site-packages (from ipykernel>=6.5.0->jupyterlab==4.2.3->lab-4-pkg==2024.0.1.2) (1.8.5)\n",
      "Requirement already satisfied: ipython>=7.23.1 in /Users/thusondube/Library/Caches/pypoetry/virtualenvs/lab-4-pkg-BJc9MMZB-py3.10/lib/python3.10/site-packages (from ipykernel>=6.5.0->jupyterlab==4.2.3->lab-4-pkg==2024.0.1.2) (8.27.0)\n",
      "Requirement already satisfied: jupyter-client>=6.1.12 in /Users/thusondube/Library/Caches/pypoetry/virtualenvs/lab-4-pkg-BJc9MMZB-py3.10/lib/python3.10/site-packages (from ipykernel>=6.5.0->jupyterlab==4.2.3->lab-4-pkg==2024.0.1.2) (8.6.3)\n",
      "Requirement already satisfied: matplotlib-inline>=0.1 in /Users/thusondube/Library/Caches/pypoetry/virtualenvs/lab-4-pkg-BJc9MMZB-py3.10/lib/python3.10/site-packages (from ipykernel>=6.5.0->jupyterlab==4.2.3->lab-4-pkg==2024.0.1.2) (0.1.7)\n",
      "Requirement already satisfied: nest-asyncio in /Users/thusondube/Library/Caches/pypoetry/virtualenvs/lab-4-pkg-BJc9MMZB-py3.10/lib/python3.10/site-packages (from ipykernel>=6.5.0->jupyterlab==4.2.3->lab-4-pkg==2024.0.1.2) (1.6.0)\n",
      "Requirement already satisfied: psutil in /Users/thusondube/Library/Caches/pypoetry/virtualenvs/lab-4-pkg-BJc9MMZB-py3.10/lib/python3.10/site-packages (from ipykernel>=6.5.0->jupyterlab==4.2.3->lab-4-pkg==2024.0.1.2) (6.0.0)\n",
      "Requirement already satisfied: pyzmq>=24 in /Users/thusondube/Library/Caches/pypoetry/virtualenvs/lab-4-pkg-BJc9MMZB-py3.10/lib/python3.10/site-packages (from ipykernel>=6.5.0->jupyterlab==4.2.3->lab-4-pkg==2024.0.1.2) (26.2.0)\n",
      "Requirement already satisfied: MarkupSafe>=2.0 in /Users/thusondube/Library/Caches/pypoetry/virtualenvs/lab-4-pkg-BJc9MMZB-py3.10/lib/python3.10/site-packages (from jinja2>=3.0.3->jupyterlab==4.2.3->lab-4-pkg==2024.0.1.2) (2.1.5)\n",
      "Requirement already satisfied: platformdirs>=2.5 in /Users/thusondube/Library/Caches/pypoetry/virtualenvs/lab-4-pkg-BJc9MMZB-py3.10/lib/python3.10/site-packages (from jupyter-core->jupyterlab==4.2.3->lab-4-pkg==2024.0.1.2) (4.3.6)\n",
      "Requirement already satisfied: argon2-cffi>=21.1 in /Users/thusondube/Library/Caches/pypoetry/virtualenvs/lab-4-pkg-BJc9MMZB-py3.10/lib/python3.10/site-packages (from jupyter-server<3,>=2.4.0->jupyterlab==4.2.3->lab-4-pkg==2024.0.1.2) (23.1.0)\n",
      "Requirement already satisfied: jupyter-events>=0.9.0 in /Users/thusondube/Library/Caches/pypoetry/virtualenvs/lab-4-pkg-BJc9MMZB-py3.10/lib/python3.10/site-packages (from jupyter-server<3,>=2.4.0->jupyterlab==4.2.3->lab-4-pkg==2024.0.1.2) (0.10.0)\n",
      "Requirement already satisfied: jupyter-server-terminals>=0.4.4 in /Users/thusondube/Library/Caches/pypoetry/virtualenvs/lab-4-pkg-BJc9MMZB-py3.10/lib/python3.10/site-packages (from jupyter-server<3,>=2.4.0->jupyterlab==4.2.3->lab-4-pkg==2024.0.1.2) (0.5.3)\n",
      "Requirement already satisfied: nbconvert>=6.4.4 in /Users/thusondube/Library/Caches/pypoetry/virtualenvs/lab-4-pkg-BJc9MMZB-py3.10/lib/python3.10/site-packages (from jupyter-server<3,>=2.4.0->jupyterlab==4.2.3->lab-4-pkg==2024.0.1.2) (7.16.4)\n",
      "Requirement already satisfied: nbformat>=5.3.0 in /Users/thusondube/Library/Caches/pypoetry/virtualenvs/lab-4-pkg-BJc9MMZB-py3.10/lib/python3.10/site-packages (from jupyter-server<3,>=2.4.0->jupyterlab==4.2.3->lab-4-pkg==2024.0.1.2) (5.10.4)\n",
      "Requirement already satisfied: overrides>=5.0 in /Users/thusondube/Library/Caches/pypoetry/virtualenvs/lab-4-pkg-BJc9MMZB-py3.10/lib/python3.10/site-packages (from jupyter-server<3,>=2.4.0->jupyterlab==4.2.3->lab-4-pkg==2024.0.1.2) (7.7.0)\n",
      "Requirement already satisfied: prometheus-client>=0.9 in /Users/thusondube/Library/Caches/pypoetry/virtualenvs/lab-4-pkg-BJc9MMZB-py3.10/lib/python3.10/site-packages (from jupyter-server<3,>=2.4.0->jupyterlab==4.2.3->lab-4-pkg==2024.0.1.2) (0.20.0)\n",
      "Requirement already satisfied: send2trash>=1.8.2 in /Users/thusondube/Library/Caches/pypoetry/virtualenvs/lab-4-pkg-BJc9MMZB-py3.10/lib/python3.10/site-packages (from jupyter-server<3,>=2.4.0->jupyterlab==4.2.3->lab-4-pkg==2024.0.1.2) (1.8.3)\n",
      "Requirement already satisfied: terminado>=0.8.3 in /Users/thusondube/Library/Caches/pypoetry/virtualenvs/lab-4-pkg-BJc9MMZB-py3.10/lib/python3.10/site-packages (from jupyter-server<3,>=2.4.0->jupyterlab==4.2.3->lab-4-pkg==2024.0.1.2) (0.18.1)\n",
      "Requirement already satisfied: websocket-client>=1.7 in /Users/thusondube/Library/Caches/pypoetry/virtualenvs/lab-4-pkg-BJc9MMZB-py3.10/lib/python3.10/site-packages (from jupyter-server<3,>=2.4.0->jupyterlab==4.2.3->lab-4-pkg==2024.0.1.2) (1.8.0)\n",
      "Requirement already satisfied: babel>=2.10 in /Users/thusondube/Library/Caches/pypoetry/virtualenvs/lab-4-pkg-BJc9MMZB-py3.10/lib/python3.10/site-packages (from jupyterlab-server<3,>=2.27.1->jupyterlab==4.2.3->lab-4-pkg==2024.0.1.2) (2.16.0)\n",
      "Requirement already satisfied: json5>=0.9.0 in /Users/thusondube/Library/Caches/pypoetry/virtualenvs/lab-4-pkg-BJc9MMZB-py3.10/lib/python3.10/site-packages (from jupyterlab-server<3,>=2.27.1->jupyterlab==4.2.3->lab-4-pkg==2024.0.1.2) (0.9.25)\n",
      "Requirement already satisfied: jsonschema>=4.18.0 in /Users/thusondube/Library/Caches/pypoetry/virtualenvs/lab-4-pkg-BJc9MMZB-py3.10/lib/python3.10/site-packages (from jupyterlab-server<3,>=2.27.1->jupyterlab==4.2.3->lab-4-pkg==2024.0.1.2) (4.23.0)\n",
      "Requirement already satisfied: requests>=2.31 in /Users/thusondube/Library/Caches/pypoetry/virtualenvs/lab-4-pkg-BJc9MMZB-py3.10/lib/python3.10/site-packages (from jupyterlab-server<3,>=2.27.1->jupyterlab==4.2.3->lab-4-pkg==2024.0.1.2) (2.32.3)\n",
      "Requirement already satisfied: six>=1.5 in /Users/thusondube/Library/Caches/pypoetry/virtualenvs/lab-4-pkg-BJc9MMZB-py3.10/lib/python3.10/site-packages (from python-dateutil>=2.8.2->pandas==2.2.2->lab-4-pkg==2024.0.1.2) (1.16.0)\n",
      "Requirement already satisfied: exceptiongroup>=1.0.2 in /Users/thusondube/Library/Caches/pypoetry/virtualenvs/lab-4-pkg-BJc9MMZB-py3.10/lib/python3.10/site-packages (from anyio->httpx>=0.25.0->jupyterlab==4.2.3->lab-4-pkg==2024.0.1.2) (1.2.2)\n",
      "Requirement already satisfied: argon2-cffi-bindings in /Users/thusondube/Library/Caches/pypoetry/virtualenvs/lab-4-pkg-BJc9MMZB-py3.10/lib/python3.10/site-packages (from argon2-cffi>=21.1->jupyter-server<3,>=2.4.0->jupyterlab==4.2.3->lab-4-pkg==2024.0.1.2) (21.2.0)\n",
      "Requirement already satisfied: decorator in /Users/thusondube/Library/Caches/pypoetry/virtualenvs/lab-4-pkg-BJc9MMZB-py3.10/lib/python3.10/site-packages (from ipython>=7.23.1->ipykernel>=6.5.0->jupyterlab==4.2.3->lab-4-pkg==2024.0.1.2) (5.1.1)\n",
      "Requirement already satisfied: jedi>=0.16 in /Users/thusondube/Library/Caches/pypoetry/virtualenvs/lab-4-pkg-BJc9MMZB-py3.10/lib/python3.10/site-packages (from ipython>=7.23.1->ipykernel>=6.5.0->jupyterlab==4.2.3->lab-4-pkg==2024.0.1.2) (0.19.1)\n",
      "Requirement already satisfied: prompt-toolkit<3.1.0,>=3.0.41 in /Users/thusondube/Library/Caches/pypoetry/virtualenvs/lab-4-pkg-BJc9MMZB-py3.10/lib/python3.10/site-packages (from ipython>=7.23.1->ipykernel>=6.5.0->jupyterlab==4.2.3->lab-4-pkg==2024.0.1.2) (3.0.47)\n",
      "Requirement already satisfied: pygments>=2.4.0 in /Users/thusondube/Library/Caches/pypoetry/virtualenvs/lab-4-pkg-BJc9MMZB-py3.10/lib/python3.10/site-packages (from ipython>=7.23.1->ipykernel>=6.5.0->jupyterlab==4.2.3->lab-4-pkg==2024.0.1.2) (2.18.0)\n",
      "Requirement already satisfied: stack-data in /Users/thusondube/Library/Caches/pypoetry/virtualenvs/lab-4-pkg-BJc9MMZB-py3.10/lib/python3.10/site-packages (from ipython>=7.23.1->ipykernel>=6.5.0->jupyterlab==4.2.3->lab-4-pkg==2024.0.1.2) (0.6.3)\n",
      "Requirement already satisfied: pexpect>4.3 in /Users/thusondube/Library/Caches/pypoetry/virtualenvs/lab-4-pkg-BJc9MMZB-py3.10/lib/python3.10/site-packages (from ipython>=7.23.1->ipykernel>=6.5.0->jupyterlab==4.2.3->lab-4-pkg==2024.0.1.2) (4.9.0)\n",
      "Requirement already satisfied: attrs>=22.2.0 in /Users/thusondube/Library/Caches/pypoetry/virtualenvs/lab-4-pkg-BJc9MMZB-py3.10/lib/python3.10/site-packages (from jsonschema>=4.18.0->jupyterlab-server<3,>=2.27.1->jupyterlab==4.2.3->lab-4-pkg==2024.0.1.2) (24.2.0)\n",
      "Requirement already satisfied: jsonschema-specifications>=2023.03.6 in /Users/thusondube/Library/Caches/pypoetry/virtualenvs/lab-4-pkg-BJc9MMZB-py3.10/lib/python3.10/site-packages (from jsonschema>=4.18.0->jupyterlab-server<3,>=2.27.1->jupyterlab==4.2.3->lab-4-pkg==2024.0.1.2) (2023.12.1)\n",
      "Requirement already satisfied: referencing>=0.28.4 in /Users/thusondube/Library/Caches/pypoetry/virtualenvs/lab-4-pkg-BJc9MMZB-py3.10/lib/python3.10/site-packages (from jsonschema>=4.18.0->jupyterlab-server<3,>=2.27.1->jupyterlab==4.2.3->lab-4-pkg==2024.0.1.2) (0.35.1)\n",
      "Requirement already satisfied: rpds-py>=0.7.1 in /Users/thusondube/Library/Caches/pypoetry/virtualenvs/lab-4-pkg-BJc9MMZB-py3.10/lib/python3.10/site-packages (from jsonschema>=4.18.0->jupyterlab-server<3,>=2.27.1->jupyterlab==4.2.3->lab-4-pkg==2024.0.1.2) (0.20.0)\n",
      "Requirement already satisfied: python-json-logger>=2.0.4 in /Users/thusondube/Library/Caches/pypoetry/virtualenvs/lab-4-pkg-BJc9MMZB-py3.10/lib/python3.10/site-packages (from jupyter-events>=0.9.0->jupyter-server<3,>=2.4.0->jupyterlab==4.2.3->lab-4-pkg==2024.0.1.2) (2.0.7)\n",
      "Requirement already satisfied: pyyaml>=5.3 in /Users/thusondube/Library/Caches/pypoetry/virtualenvs/lab-4-pkg-BJc9MMZB-py3.10/lib/python3.10/site-packages (from jupyter-events>=0.9.0->jupyter-server<3,>=2.4.0->jupyterlab==4.2.3->lab-4-pkg==2024.0.1.2) (6.0.2)\n",
      "Requirement already satisfied: rfc3339-validator in /Users/thusondube/Library/Caches/pypoetry/virtualenvs/lab-4-pkg-BJc9MMZB-py3.10/lib/python3.10/site-packages (from jupyter-events>=0.9.0->jupyter-server<3,>=2.4.0->jupyterlab==4.2.3->lab-4-pkg==2024.0.1.2) (0.1.4)\n",
      "Requirement already satisfied: rfc3986-validator>=0.1.1 in /Users/thusondube/Library/Caches/pypoetry/virtualenvs/lab-4-pkg-BJc9MMZB-py3.10/lib/python3.10/site-packages (from jupyter-events>=0.9.0->jupyter-server<3,>=2.4.0->jupyterlab==4.2.3->lab-4-pkg==2024.0.1.2) (0.1.1)\n",
      "Requirement already satisfied: beautifulsoup4 in /Users/thusondube/Library/Caches/pypoetry/virtualenvs/lab-4-pkg-BJc9MMZB-py3.10/lib/python3.10/site-packages (from nbconvert>=6.4.4->jupyter-server<3,>=2.4.0->jupyterlab==4.2.3->lab-4-pkg==2024.0.1.2) (4.12.3)\n",
      "Requirement already satisfied: bleach!=5.0.0 in /Users/thusondube/Library/Caches/pypoetry/virtualenvs/lab-4-pkg-BJc9MMZB-py3.10/lib/python3.10/site-packages (from nbconvert>=6.4.4->jupyter-server<3,>=2.4.0->jupyterlab==4.2.3->lab-4-pkg==2024.0.1.2) (6.1.0)\n",
      "Requirement already satisfied: defusedxml in /Users/thusondube/Library/Caches/pypoetry/virtualenvs/lab-4-pkg-BJc9MMZB-py3.10/lib/python3.10/site-packages (from nbconvert>=6.4.4->jupyter-server<3,>=2.4.0->jupyterlab==4.2.3->lab-4-pkg==2024.0.1.2) (0.7.1)\n",
      "Requirement already satisfied: jupyterlab-pygments in /Users/thusondube/Library/Caches/pypoetry/virtualenvs/lab-4-pkg-BJc9MMZB-py3.10/lib/python3.10/site-packages (from nbconvert>=6.4.4->jupyter-server<3,>=2.4.0->jupyterlab==4.2.3->lab-4-pkg==2024.0.1.2) (0.3.0)\n",
      "Requirement already satisfied: mistune<4,>=2.0.3 in /Users/thusondube/Library/Caches/pypoetry/virtualenvs/lab-4-pkg-BJc9MMZB-py3.10/lib/python3.10/site-packages (from nbconvert>=6.4.4->jupyter-server<3,>=2.4.0->jupyterlab==4.2.3->lab-4-pkg==2024.0.1.2) (3.0.2)\n",
      "Requirement already satisfied: nbclient>=0.5.0 in /Users/thusondube/Library/Caches/pypoetry/virtualenvs/lab-4-pkg-BJc9MMZB-py3.10/lib/python3.10/site-packages (from nbconvert>=6.4.4->jupyter-server<3,>=2.4.0->jupyterlab==4.2.3->lab-4-pkg==2024.0.1.2) (0.10.0)\n",
      "Requirement already satisfied: pandocfilters>=1.4.1 in /Users/thusondube/Library/Caches/pypoetry/virtualenvs/lab-4-pkg-BJc9MMZB-py3.10/lib/python3.10/site-packages (from nbconvert>=6.4.4->jupyter-server<3,>=2.4.0->jupyterlab==4.2.3->lab-4-pkg==2024.0.1.2) (1.5.1)\n",
      "Requirement already satisfied: tinycss2 in /Users/thusondube/Library/Caches/pypoetry/virtualenvs/lab-4-pkg-BJc9MMZB-py3.10/lib/python3.10/site-packages (from nbconvert>=6.4.4->jupyter-server<3,>=2.4.0->jupyterlab==4.2.3->lab-4-pkg==2024.0.1.2) (1.3.0)\n",
      "Requirement already satisfied: fastjsonschema>=2.15 in /Users/thusondube/Library/Caches/pypoetry/virtualenvs/lab-4-pkg-BJc9MMZB-py3.10/lib/python3.10/site-packages (from nbformat>=5.3.0->jupyter-server<3,>=2.4.0->jupyterlab==4.2.3->lab-4-pkg==2024.0.1.2) (2.20.0)\n",
      "Requirement already satisfied: charset-normalizer<4,>=2 in /Users/thusondube/Library/Caches/pypoetry/virtualenvs/lab-4-pkg-BJc9MMZB-py3.10/lib/python3.10/site-packages (from requests>=2.31->jupyterlab-server<3,>=2.27.1->jupyterlab==4.2.3->lab-4-pkg==2024.0.1.2) (3.3.2)\n",
      "Requirement already satisfied: urllib3<3,>=1.21.1 in /Users/thusondube/Library/Caches/pypoetry/virtualenvs/lab-4-pkg-BJc9MMZB-py3.10/lib/python3.10/site-packages (from requests>=2.31->jupyterlab-server<3,>=2.27.1->jupyterlab==4.2.3->lab-4-pkg==2024.0.1.2) (2.2.3)\n",
      "Requirement already satisfied: ptyprocess in /Users/thusondube/Library/Caches/pypoetry/virtualenvs/lab-4-pkg-BJc9MMZB-py3.10/lib/python3.10/site-packages (from terminado>=0.8.3->jupyter-server<3,>=2.4.0->jupyterlab==4.2.3->lab-4-pkg==2024.0.1.2) (0.7.0)\n",
      "Requirement already satisfied: webencodings in /Users/thusondube/Library/Caches/pypoetry/virtualenvs/lab-4-pkg-BJc9MMZB-py3.10/lib/python3.10/site-packages (from bleach!=5.0.0->nbconvert>=6.4.4->jupyter-server<3,>=2.4.0->jupyterlab==4.2.3->lab-4-pkg==2024.0.1.2) (0.5.1)\n",
      "Requirement already satisfied: parso<0.9.0,>=0.8.3 in /Users/thusondube/Library/Caches/pypoetry/virtualenvs/lab-4-pkg-BJc9MMZB-py3.10/lib/python3.10/site-packages (from jedi>=0.16->ipython>=7.23.1->ipykernel>=6.5.0->jupyterlab==4.2.3->lab-4-pkg==2024.0.1.2) (0.8.4)\n",
      "Requirement already satisfied: fqdn in /Users/thusondube/Library/Caches/pypoetry/virtualenvs/lab-4-pkg-BJc9MMZB-py3.10/lib/python3.10/site-packages (from jsonschema[format-nongpl]>=4.18.0->jupyter-events>=0.9.0->jupyter-server<3,>=2.4.0->jupyterlab==4.2.3->lab-4-pkg==2024.0.1.2) (1.5.1)\n",
      "Requirement already satisfied: isoduration in /Users/thusondube/Library/Caches/pypoetry/virtualenvs/lab-4-pkg-BJc9MMZB-py3.10/lib/python3.10/site-packages (from jsonschema[format-nongpl]>=4.18.0->jupyter-events>=0.9.0->jupyter-server<3,>=2.4.0->jupyterlab==4.2.3->lab-4-pkg==2024.0.1.2) (20.11.0)\n",
      "Requirement already satisfied: jsonpointer>1.13 in /Users/thusondube/Library/Caches/pypoetry/virtualenvs/lab-4-pkg-BJc9MMZB-py3.10/lib/python3.10/site-packages (from jsonschema[format-nongpl]>=4.18.0->jupyter-events>=0.9.0->jupyter-server<3,>=2.4.0->jupyterlab==4.2.3->lab-4-pkg==2024.0.1.2) (3.0.0)\n",
      "Requirement already satisfied: uri-template in /Users/thusondube/Library/Caches/pypoetry/virtualenvs/lab-4-pkg-BJc9MMZB-py3.10/lib/python3.10/site-packages (from jsonschema[format-nongpl]>=4.18.0->jupyter-events>=0.9.0->jupyter-server<3,>=2.4.0->jupyterlab==4.2.3->lab-4-pkg==2024.0.1.2) (1.3.0)\n",
      "Requirement already satisfied: webcolors>=24.6.0 in /Users/thusondube/Library/Caches/pypoetry/virtualenvs/lab-4-pkg-BJc9MMZB-py3.10/lib/python3.10/site-packages (from jsonschema[format-nongpl]>=4.18.0->jupyter-events>=0.9.0->jupyter-server<3,>=2.4.0->jupyterlab==4.2.3->lab-4-pkg==2024.0.1.2) (24.8.0)\n",
      "Requirement already satisfied: wcwidth in /Users/thusondube/Library/Caches/pypoetry/virtualenvs/lab-4-pkg-BJc9MMZB-py3.10/lib/python3.10/site-packages (from prompt-toolkit<3.1.0,>=3.0.41->ipython>=7.23.1->ipykernel>=6.5.0->jupyterlab==4.2.3->lab-4-pkg==2024.0.1.2) (0.2.13)\n",
      "Requirement already satisfied: cffi>=1.0.1 in /Users/thusondube/Library/Caches/pypoetry/virtualenvs/lab-4-pkg-BJc9MMZB-py3.10/lib/python3.10/site-packages (from argon2-cffi-bindings->argon2-cffi>=21.1->jupyter-server<3,>=2.4.0->jupyterlab==4.2.3->lab-4-pkg==2024.0.1.2) (1.17.1)\n",
      "Requirement already satisfied: soupsieve>1.2 in /Users/thusondube/Library/Caches/pypoetry/virtualenvs/lab-4-pkg-BJc9MMZB-py3.10/lib/python3.10/site-packages (from beautifulsoup4->nbconvert>=6.4.4->jupyter-server<3,>=2.4.0->jupyterlab==4.2.3->lab-4-pkg==2024.0.1.2) (2.6)\n",
      "Requirement already satisfied: executing>=1.2.0 in /Users/thusondube/Library/Caches/pypoetry/virtualenvs/lab-4-pkg-BJc9MMZB-py3.10/lib/python3.10/site-packages (from stack-data->ipython>=7.23.1->ipykernel>=6.5.0->jupyterlab==4.2.3->lab-4-pkg==2024.0.1.2) (2.1.0)\n",
      "Requirement already satisfied: asttokens>=2.1.0 in /Users/thusondube/Library/Caches/pypoetry/virtualenvs/lab-4-pkg-BJc9MMZB-py3.10/lib/python3.10/site-packages (from stack-data->ipython>=7.23.1->ipykernel>=6.5.0->jupyterlab==4.2.3->lab-4-pkg==2024.0.1.2) (2.4.1)\n",
      "Requirement already satisfied: pure-eval in /Users/thusondube/Library/Caches/pypoetry/virtualenvs/lab-4-pkg-BJc9MMZB-py3.10/lib/python3.10/site-packages (from stack-data->ipython>=7.23.1->ipykernel>=6.5.0->jupyterlab==4.2.3->lab-4-pkg==2024.0.1.2) (0.2.3)\n",
      "Requirement already satisfied: pycparser in /Users/thusondube/Library/Caches/pypoetry/virtualenvs/lab-4-pkg-BJc9MMZB-py3.10/lib/python3.10/site-packages (from cffi>=1.0.1->argon2-cffi-bindings->argon2-cffi>=21.1->jupyter-server<3,>=2.4.0->jupyterlab==4.2.3->lab-4-pkg==2024.0.1.2) (2.22)\n",
      "Requirement already satisfied: arrow>=0.15.0 in /Users/thusondube/Library/Caches/pypoetry/virtualenvs/lab-4-pkg-BJc9MMZB-py3.10/lib/python3.10/site-packages (from isoduration->jsonschema[format-nongpl]>=4.18.0->jupyter-events>=0.9.0->jupyter-server<3,>=2.4.0->jupyterlab==4.2.3->lab-4-pkg==2024.0.1.2) (1.3.0)\n",
      "Requirement already satisfied: types-python-dateutil>=2.8.10 in /Users/thusondube/Library/Caches/pypoetry/virtualenvs/lab-4-pkg-BJc9MMZB-py3.10/lib/python3.10/site-packages (from arrow>=0.15.0->isoduration->jsonschema[format-nongpl]>=4.18.0->jupyter-events>=0.9.0->jupyter-server<3,>=2.4.0->jupyterlab==4.2.3->lab-4-pkg==2024.0.1.2) (2.9.0.20240906)\n",
      "Downloading https://test-files.pythonhosted.org/packages/ca/3c/ca434fa745ced7d24dba373bb2cf7aa27c09a09721754df18068fcebcc72/lab_4_pkg-2024.0.1.2-py3-none-any.whl (7.3 kB)\n",
      "Installing collected packages: lab-4-pkg\n",
      "  Attempting uninstall: lab-4-pkg\n",
      "    Found existing installation: lab-4-pkg 2024.0.1.1\n",
      "    Uninstalling lab-4-pkg-2024.0.1.1:\n",
      "      Successfully uninstalled lab-4-pkg-2024.0.1.1\n",
      "Successfully installed lab-4-pkg-2024.0.1.2\n"
     ]
    }
   ],
   "source": [
    "! pip install -i https://test.pypi.org/simple/ lab-4-pkg==2024.0.1.2"
   ]
  },
  {
   "cell_type": "code",
   "execution_count": 3,
   "id": "9733ac1e-d0dd-463e-97ab-84beeac3f3ed",
   "metadata": {},
   "outputs": [],
   "source": [
    "import pandas as pd\n",
    "import numpy as np"
   ]
  },
  {
   "cell_type": "code",
   "execution_count": 5,
   "id": "d0fc861b-17bd-45e3-913b-694d2e294870",
   "metadata": {},
   "outputs": [],
   "source": [
    "df = pd.read_csv('../data/raw/OnlineNewsPopularity.csv')"
   ]
  },
  {
   "cell_type": "code",
   "execution_count": 6,
   "id": "7669a9ed-54f5-4234-80c9-71384f5bc01e",
   "metadata": {},
   "outputs": [
    {
     "data": {
      "text/plain": [
       "(39644, 61)"
      ]
     },
     "execution_count": 6,
     "metadata": {},
     "output_type": "execute_result"
    }
   ],
   "source": [
    "df.shape"
   ]
  },
  {
   "cell_type": "code",
   "execution_count": 7,
   "id": "4d11bc02-dd1a-46a4-9a31-8a5af9149d89",
   "metadata": {},
   "outputs": [
    {
     "name": "stdout",
     "output_type": "stream",
     "text": [
      "<class 'pandas.core.frame.DataFrame'>\n",
      "RangeIndex: 39644 entries, 0 to 39643\n",
      "Data columns (total 61 columns):\n",
      " #   Column                          Non-Null Count  Dtype  \n",
      "---  ------                          --------------  -----  \n",
      " 0   url                             39644 non-null  object \n",
      " 1    timedelta                      39644 non-null  float64\n",
      " 2    n_tokens_title                 39644 non-null  float64\n",
      " 3    n_tokens_content               39644 non-null  float64\n",
      " 4    n_unique_tokens                39644 non-null  float64\n",
      " 5    n_non_stop_words               39644 non-null  float64\n",
      " 6    n_non_stop_unique_tokens       39644 non-null  float64\n",
      " 7    num_hrefs                      39644 non-null  float64\n",
      " 8    num_self_hrefs                 39644 non-null  float64\n",
      " 9    num_imgs                       39644 non-null  float64\n",
      " 10   num_videos                     39644 non-null  float64\n",
      " 11   average_token_length           39644 non-null  float64\n",
      " 12   num_keywords                   39644 non-null  float64\n",
      " 13   data_channel_is_lifestyle      39644 non-null  float64\n",
      " 14   data_channel_is_entertainment  39644 non-null  float64\n",
      " 15   data_channel_is_bus            39644 non-null  float64\n",
      " 16   data_channel_is_socmed         39644 non-null  float64\n",
      " 17   data_channel_is_tech           39644 non-null  float64\n",
      " 18   data_channel_is_world          39644 non-null  float64\n",
      " 19   kw_min_min                     39644 non-null  float64\n",
      " 20   kw_max_min                     39644 non-null  float64\n",
      " 21   kw_avg_min                     39644 non-null  float64\n",
      " 22   kw_min_max                     39644 non-null  float64\n",
      " 23   kw_max_max                     39644 non-null  float64\n",
      " 24   kw_avg_max                     39644 non-null  float64\n",
      " 25   kw_min_avg                     39644 non-null  float64\n",
      " 26   kw_max_avg                     39644 non-null  float64\n",
      " 27   kw_avg_avg                     39644 non-null  float64\n",
      " 28   self_reference_min_shares      39644 non-null  float64\n",
      " 29   self_reference_max_shares      39644 non-null  float64\n",
      " 30   self_reference_avg_sharess     39644 non-null  float64\n",
      " 31   weekday_is_monday              39644 non-null  float64\n",
      " 32   weekday_is_tuesday             39644 non-null  float64\n",
      " 33   weekday_is_wednesday           39644 non-null  float64\n",
      " 34   weekday_is_thursday            39644 non-null  float64\n",
      " 35   weekday_is_friday              39644 non-null  float64\n",
      " 36   weekday_is_saturday            39644 non-null  float64\n",
      " 37   weekday_is_sunday              39644 non-null  float64\n",
      " 38   is_weekend                     39644 non-null  float64\n",
      " 39   LDA_00                         39644 non-null  float64\n",
      " 40   LDA_01                         39644 non-null  float64\n",
      " 41   LDA_02                         39644 non-null  float64\n",
      " 42   LDA_03                         39644 non-null  float64\n",
      " 43   LDA_04                         39644 non-null  float64\n",
      " 44   global_subjectivity            39644 non-null  float64\n",
      " 45   global_sentiment_polarity      39644 non-null  float64\n",
      " 46   global_rate_positive_words     39644 non-null  float64\n",
      " 47   global_rate_negative_words     39644 non-null  float64\n",
      " 48   rate_positive_words            39644 non-null  float64\n",
      " 49   rate_negative_words            39644 non-null  float64\n",
      " 50   avg_positive_polarity          39644 non-null  float64\n",
      " 51   min_positive_polarity          39644 non-null  float64\n",
      " 52   max_positive_polarity          39644 non-null  float64\n",
      " 53   avg_negative_polarity          39644 non-null  float64\n",
      " 54   min_negative_polarity          39644 non-null  float64\n",
      " 55   max_negative_polarity          39644 non-null  float64\n",
      " 56   title_subjectivity             39644 non-null  float64\n",
      " 57   title_sentiment_polarity       39644 non-null  float64\n",
      " 58   abs_title_subjectivity         39644 non-null  float64\n",
      " 59   abs_title_sentiment_polarity   39644 non-null  float64\n",
      " 60   shares                         39644 non-null  int64  \n",
      "dtypes: float64(59), int64(1), object(1)\n",
      "memory usage: 18.5+ MB\n"
     ]
    }
   ],
   "source": [
    "df.info()"
   ]
  },
  {
   "cell_type": "code",
   "execution_count": 8,
   "id": "1cb02c32-beeb-4393-8327-45d375874883",
   "metadata": {},
   "outputs": [],
   "source": [
    "df_cleaned = df.copy()"
   ]
  },
  {
   "cell_type": "code",
   "execution_count": 9,
   "id": "d849bcae-5191-47d1-9410-e986e079b899",
   "metadata": {},
   "outputs": [],
   "source": [
    "df_cleaned.drop('url', axis=1, inplace=True)"
   ]
  },
  {
   "cell_type": "code",
   "execution_count": 10,
   "id": "1832ced2-8cfe-48d9-8a5c-51a744b3a7d2",
   "metadata": {},
   "outputs": [],
   "source": [
    "df_cleaned.columns = df_cleaned.columns.str.strip()"
   ]
  },
  {
   "cell_type": "code",
   "execution_count": 12,
   "id": "ff49acd4-ada2-4267-ad16-dcd840a34b0f",
   "metadata": {},
   "outputs": [],
   "source": [
    "from lab_4_pkg.src.data.sets import pop_target"
   ]
  },
  {
   "cell_type": "code",
   "execution_count": 13,
   "id": "e533da06-dc87-487f-abcd-93d42a68cd3d",
   "metadata": {},
   "outputs": [],
   "source": [
    "features, target = pop_target(df_cleaned, 'shares')"
   ]
  },
  {
   "cell_type": "code",
   "execution_count": 15,
   "id": "6762d026-b32f-435c-b043-d9dec16f91c3",
   "metadata": {},
   "outputs": [],
   "source": [
    "from sklearn.preprocessing import StandardScaler"
   ]
  },
  {
   "cell_type": "code",
   "execution_count": 16,
   "id": "91f97830-e73e-40f5-8f65-96a64b638096",
   "metadata": {},
   "outputs": [],
   "source": [
    "scaler = StandardScaler()"
   ]
  },
  {
   "cell_type": "code",
   "execution_count": 17,
   "id": "14fea306-bd20-4462-baa0-41ca3457261c",
   "metadata": {},
   "outputs": [],
   "source": [
    "features = pd.DataFrame(scaler.fit_transform(features), columns=features.columns)"
   ]
  },
  {
   "cell_type": "code",
   "execution_count": 18,
   "id": "9807ef20-39e1-4ae8-a6e3-fa2cd9529bea",
   "metadata": {},
   "outputs": [],
   "source": [
    "from joblib import dump"
   ]
  },
  {
   "cell_type": "code",
   "execution_count": 19,
   "id": "282bc3da-3c58-4e07-a5cb-554bdb1d897c",
   "metadata": {},
   "outputs": [
    {
     "data": {
      "text/plain": [
       "['../models/scaler.joblib']"
      ]
     },
     "execution_count": 19,
     "metadata": {},
     "output_type": "execute_result"
    }
   ],
   "source": [
    "dump(scaler, '../models/scaler.joblib')"
   ]
  },
  {
   "cell_type": "code",
   "execution_count": 20,
   "id": "c7ac1fba-5d9b-4b88-9c0b-cb62dc8ae06f",
   "metadata": {},
   "outputs": [],
   "source": [
    "from lab_4_pkg.src.data.sets import split_sets_random"
   ]
  },
  {
   "cell_type": "code",
   "execution_count": 21,
   "id": "3185cc94-7021-4e39-aae5-2397012ec462",
   "metadata": {},
   "outputs": [],
   "source": [
    "X_train, y_train, X_val, y_val, X_test, y_test = split_sets_random(features, target, test_ratio=0.2)"
   ]
  },
  {
   "cell_type": "code",
   "execution_count": 22,
   "id": "35eef4a6-d3c3-4f42-8cff-25798a2026e2",
   "metadata": {},
   "outputs": [],
   "source": [
    "from lab_4_pkg.src.data.sets import save_sets"
   ]
  },
  {
   "cell_type": "code",
   "execution_count": 23,
   "id": "0528f2b4-45b9-47eb-88d0-8aae229a2e60",
   "metadata": {},
   "outputs": [],
   "source": [
    "save_sets(X_train, y_train, X_val, y_val, X_test, y_test, path='../data/processed/')"
   ]
  },
  {
   "cell_type": "code",
   "execution_count": 27,
   "id": "546a93e4-fa35-48fb-b64b-491051621d5c",
   "metadata": {},
   "outputs": [
    {
     "ename": "ImportError",
     "evalue": "cannot import name 'NullRegressor' from 'lab_4_pkg.src.models.null' (/Users/thusondube/Library/Caches/pypoetry/virtualenvs/lab-4-pkg-BJc9MMZB-py3.10/lib/python3.10/site-packages/lab_4_pkg/src/models/null.py)",
     "output_type": "error",
     "traceback": [
      "\u001b[0;31m---------------------------------------------------------------------------\u001b[0m",
      "\u001b[0;31mImportError\u001b[0m                               Traceback (most recent call last)",
      "Cell \u001b[0;32mIn[27], line 1\u001b[0m\n\u001b[0;32m----> 1\u001b[0m \u001b[38;5;28;01mfrom\u001b[39;00m \u001b[38;5;21;01mlab_4_pkg\u001b[39;00m\u001b[38;5;21;01m.\u001b[39;00m\u001b[38;5;21;01msrc\u001b[39;00m\u001b[38;5;21;01m.\u001b[39;00m\u001b[38;5;21;01mmodels\u001b[39;00m\u001b[38;5;21;01m.\u001b[39;00m\u001b[38;5;21;01mnull\u001b[39;00m \u001b[38;5;28;01mimport\u001b[39;00m NullRegressor\n",
      "\u001b[0;31mImportError\u001b[0m: cannot import name 'NullRegressor' from 'lab_4_pkg.src.models.null' (/Users/thusondube/Library/Caches/pypoetry/virtualenvs/lab-4-pkg-BJc9MMZB-py3.10/lib/python3.10/site-packages/lab_4_pkg/src/models/null.py)"
     ]
    }
   ],
   "source": [
    "from lab_4_pkg.src.models.null import NullRegressor"
   ]
  }
 ],
 "metadata": {
  "kernelspec": {
   "display_name": "Python 3 (ipykernel)",
   "language": "python",
   "name": "python3"
  },
  "language_info": {
   "codemirror_mode": {
    "name": "ipython",
    "version": 3
   },
   "file_extension": ".py",
   "mimetype": "text/x-python",
   "name": "python",
   "nbconvert_exporter": "python",
   "pygments_lexer": "ipython3",
   "version": "3.10.7"
  }
 },
 "nbformat": 4,
 "nbformat_minor": 5
}
